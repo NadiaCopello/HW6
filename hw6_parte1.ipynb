{
  "nbformat": 4,
  "nbformat_minor": 0,
  "metadata": {
    "colab": {
      "provenance": [],
      "gpuType": "T4",
      "authorship_tag": "ABX9TyM/jpcOJvrQkBmtnYqlz/Q6",
      "include_colab_link": true
    },
    "kernelspec": {
      "name": "python3",
      "display_name": "Python 3"
    },
    "language_info": {
      "name": "python"
    },
    "accelerator": "GPU"
  },
  "cells": [
    {
      "cell_type": "markdown",
      "metadata": {
        "id": "view-in-github",
        "colab_type": "text"
      },
      "source": [
        "<a href=\"https://colab.research.google.com/github/NadiaCopello/HW6/blob/main/hw6_parte1.ipynb\" target=\"_parent\"><img src=\"https://colab.research.google.com/assets/colab-badge.svg\" alt=\"Open In Colab\"/></a>"
      ]
    },
    {
      "cell_type": "code",
      "execution_count": 1,
      "metadata": {
        "colab": {
          "base_uri": "https://localhost:8080/"
        },
        "id": "BstFGO4Rg1ML",
        "outputId": "e9af569c-655c-4fa6-c2df-fdce3999c695"
      },
      "outputs": [
        {
          "output_type": "stream",
          "name": "stdout",
          "text": [
            "GPU disponible:\n",
            "[PhysicalDevice(name='/physical_device:GPU:0', device_type='GPU')]\n"
          ]
        }
      ],
      "source": [
        "import tensorflow as tf\n",
        "\n",
        "device_name = tf.config.list_physical_devices('GPU')\n",
        "print(\"GPU disponible:\" if device_name else \"NO hay GPU disponible\")\n",
        "print(device_name)\n",
        "\n"
      ]
    },
    {
      "cell_type": "code",
      "source": [
        "from tensorflow.keras.datasets import fashion_mnist\n",
        "\n",
        "# Cargar los datos\n",
        "(x_train, y_train), (x_test, y_test) = fashion_mnist.load_data()\n"
      ],
      "metadata": {
        "colab": {
          "base_uri": "https://localhost:8080/"
        },
        "id": "X99DNqImiXCu",
        "outputId": "d918dc25-30e0-4cb1-c74b-85541c9d69ae"
      },
      "execution_count": 2,
      "outputs": [
        {
          "output_type": "stream",
          "name": "stdout",
          "text": [
            "Downloading data from https://storage.googleapis.com/tensorflow/tf-keras-datasets/train-labels-idx1-ubyte.gz\n",
            "\u001b[1m29515/29515\u001b[0m \u001b[32m━━━━━━━━━━━━━━━━━━━━\u001b[0m\u001b[37m\u001b[0m \u001b[1m0s\u001b[0m 0us/step\n",
            "Downloading data from https://storage.googleapis.com/tensorflow/tf-keras-datasets/train-images-idx3-ubyte.gz\n",
            "\u001b[1m26421880/26421880\u001b[0m \u001b[32m━━━━━━━━━━━━━━━━━━━━\u001b[0m\u001b[37m\u001b[0m \u001b[1m0s\u001b[0m 0us/step\n",
            "Downloading data from https://storage.googleapis.com/tensorflow/tf-keras-datasets/t10k-labels-idx1-ubyte.gz\n",
            "\u001b[1m5148/5148\u001b[0m \u001b[32m━━━━━━━━━━━━━━━━━━━━\u001b[0m\u001b[37m\u001b[0m \u001b[1m0s\u001b[0m 0us/step\n",
            "Downloading data from https://storage.googleapis.com/tensorflow/tf-keras-datasets/t10k-images-idx3-ubyte.gz\n",
            "\u001b[1m4422102/4422102\u001b[0m \u001b[32m━━━━━━━━━━━━━━━━━━━━\u001b[0m\u001b[37m\u001b[0m \u001b[1m0s\u001b[0m 0us/step\n"
          ]
        }
      ]
    },
    {
      "cell_type": "code",
      "source": [
        "# Normalizar los datos (escalar de 0 a 1)\n",
        "x_train = x_train / 255.0\n",
        "x_test = x_test / 255.0\n",
        "\n",
        "# Añadir una dimensión para canales (porque es una imagen en escala de grises)\n",
        "x_train = x_train[..., tf.newaxis]\n",
        "x_test = x_test[..., tf.newaxis]\n"
      ],
      "metadata": {
        "id": "EwtIBJzkilSy"
      },
      "execution_count": 3,
      "outputs": []
    },
    {
      "cell_type": "code",
      "source": [
        "#DEFINO UN MODELO :\n",
        "#Opción A: Modelo con capas Dense (simple)\n",
        "from tensorflow.keras import models, layers\n",
        "\n",
        "def build_dense_model():\n",
        "    model = models.Sequential([\n",
        "        layers.Flatten(input_shape=(28, 28, 1)),\n",
        "        layers.Dense(128, activation='relu'),\n",
        "        layers.Dense(10, activation='softmax')\n",
        "    ])\n",
        "    return model\n"
      ],
      "metadata": {
        "id": "btNYUBOJi0QT"
      },
      "execution_count": 4,
      "outputs": []
    },
    {
      "cell_type": "code",
      "source": [
        "#DEFINO UN MODELO :\n",
        "#Opción B: Modelo con capas CNN (más preciso)\n",
        "def build_cnn_model():\n",
        "    model = models.Sequential([\n",
        "        layers.Conv2D(32, (3,3), activation='relu', input_shape=(28, 28, 1)),\n",
        "        layers.MaxPooling2D((2,2)),\n",
        "        layers.Flatten(),\n",
        "        layers.Dense(64, activation='relu'),\n",
        "        layers.Dense(10, activation='softmax')\n",
        "    ])\n",
        "    return model\n"
      ],
      "metadata": {
        "id": "cdnb0mUyi-Ao"
      },
      "execution_count": 5,
      "outputs": []
    },
    {
      "cell_type": "code",
      "source": [
        "# Ahora lo entreno el modelo con CPU\n",
        "import time\n",
        "\n",
        "# Forzar el uso de CPU\n",
        "with tf.device('/CPU:0'):\n",
        "    model_cpu = build_dense_model()\n",
        "    model_cpu.compile(optimizer='adam',\n",
        "                      loss='sparse_categorical_crossentropy',\n",
        "                      metrics=['accuracy'])\n",
        "\n",
        "    start = time.time()\n",
        "    history_cpu = model_cpu.fit(x_train, y_train, epochs=5, validation_split=0.1, verbose=1)\n",
        "    cpu_time = time.time() - start\n",
        "    print(f\"⏱ Tiempo en CPU: {cpu_time:.2f} segundos\")\n"
      ],
      "metadata": {
        "colab": {
          "base_uri": "https://localhost:8080/"
        },
        "id": "7cJJvdBtjIul",
        "outputId": "12d9415a-b6e9-4ae1-90d9-5005ec2afccc"
      },
      "execution_count": 6,
      "outputs": [
        {
          "output_type": "stream",
          "name": "stderr",
          "text": [
            "/usr/local/lib/python3.11/dist-packages/keras/src/layers/reshaping/flatten.py:37: UserWarning: Do not pass an `input_shape`/`input_dim` argument to a layer. When using Sequential models, prefer using an `Input(shape)` object as the first layer in the model instead.\n",
            "  super().__init__(**kwargs)\n"
          ]
        },
        {
          "output_type": "stream",
          "name": "stdout",
          "text": [
            "Epoch 1/5\n",
            "\u001b[1m1688/1688\u001b[0m \u001b[32m━━━━━━━━━━━━━━━━━━━━\u001b[0m\u001b[37m\u001b[0m \u001b[1m6s\u001b[0m 3ms/step - accuracy: 0.7804 - loss: 0.6332 - val_accuracy: 0.8532 - val_loss: 0.4175\n",
            "Epoch 2/5\n",
            "\u001b[1m1688/1688\u001b[0m \u001b[32m━━━━━━━━━━━━━━━━━━━━\u001b[0m\u001b[37m\u001b[0m \u001b[1m5s\u001b[0m 3ms/step - accuracy: 0.8603 - loss: 0.3918 - val_accuracy: 0.8655 - val_loss: 0.3755\n",
            "Epoch 3/5\n",
            "\u001b[1m1688/1688\u001b[0m \u001b[32m━━━━━━━━━━━━━━━━━━━━\u001b[0m\u001b[37m\u001b[0m \u001b[1m4s\u001b[0m 2ms/step - accuracy: 0.8757 - loss: 0.3464 - val_accuracy: 0.8737 - val_loss: 0.3452\n",
            "Epoch 4/5\n",
            "\u001b[1m1688/1688\u001b[0m \u001b[32m━━━━━━━━━━━━━━━━━━━━\u001b[0m\u001b[37m\u001b[0m \u001b[1m6s\u001b[0m 3ms/step - accuracy: 0.8820 - loss: 0.3191 - val_accuracy: 0.8672 - val_loss: 0.3548\n",
            "Epoch 5/5\n",
            "\u001b[1m1688/1688\u001b[0m \u001b[32m━━━━━━━━━━━━━━━━━━━━\u001b[0m\u001b[37m\u001b[0m \u001b[1m5s\u001b[0m 3ms/step - accuracy: 0.8872 - loss: 0.3019 - val_accuracy: 0.8805 - val_loss: 0.3330\n",
            "⏱ Tiempo en CPU: 26.51 segundos\n"
          ]
        }
      ]
    },
    {
      "cell_type": "code",
      "source": [
        "# Ahora con el modelo de GPU\n",
        "with tf.device('/GPU:0'):\n",
        "    model_gpu = build_dense_model()\n",
        "    model_gpu.compile(optimizer='adam',\n",
        "                      loss='sparse_categorical_crossentropy',\n",
        "                      metrics=['accuracy'])\n",
        "\n",
        "    start = time.time()\n",
        "    history_gpu = model_gpu.fit(x_train, y_train, epochs=5, validation_split=0.1, verbose=1)\n",
        "    gpu_time = time.time() - start\n",
        "    print(f\"⏱ Tiempo en GPU: {gpu_time:.2f} segundos\")\n"
      ],
      "metadata": {
        "colab": {
          "base_uri": "https://localhost:8080/"
        },
        "id": "iLUU8limj6Ee",
        "outputId": "db9cc304-7710-42ad-e684-d2cf313f676d"
      },
      "execution_count": 7,
      "outputs": [
        {
          "output_type": "stream",
          "name": "stderr",
          "text": [
            "/usr/local/lib/python3.11/dist-packages/keras/src/layers/reshaping/flatten.py:37: UserWarning: Do not pass an `input_shape`/`input_dim` argument to a layer. When using Sequential models, prefer using an `Input(shape)` object as the first layer in the model instead.\n",
            "  super().__init__(**kwargs)\n"
          ]
        },
        {
          "output_type": "stream",
          "name": "stdout",
          "text": [
            "Epoch 1/5\n",
            "\u001b[1m1688/1688\u001b[0m \u001b[32m━━━━━━━━━━━━━━━━━━━━\u001b[0m\u001b[37m\u001b[0m \u001b[1m8s\u001b[0m 4ms/step - accuracy: 0.7765 - loss: 0.6489 - val_accuracy: 0.8562 - val_loss: 0.4126\n",
            "Epoch 2/5\n",
            "\u001b[1m1688/1688\u001b[0m \u001b[32m━━━━━━━━━━━━━━━━━━━━\u001b[0m\u001b[37m\u001b[0m \u001b[1m7s\u001b[0m 3ms/step - accuracy: 0.8559 - loss: 0.3963 - val_accuracy: 0.8677 - val_loss: 0.3703\n",
            "Epoch 3/5\n",
            "\u001b[1m1688/1688\u001b[0m \u001b[32m━━━━━━━━━━━━━━━━━━━━\u001b[0m\u001b[37m\u001b[0m \u001b[1m5s\u001b[0m 3ms/step - accuracy: 0.8774 - loss: 0.3379 - val_accuracy: 0.8638 - val_loss: 0.3685\n",
            "Epoch 4/5\n",
            "\u001b[1m1688/1688\u001b[0m \u001b[32m━━━━━━━━━━━━━━━━━━━━\u001b[0m\u001b[37m\u001b[0m \u001b[1m5s\u001b[0m 2ms/step - accuracy: 0.8855 - loss: 0.3113 - val_accuracy: 0.8783 - val_loss: 0.3323\n",
            "Epoch 5/5\n",
            "\u001b[1m1688/1688\u001b[0m \u001b[32m━━━━━━━━━━━━━━━━━━━━\u001b[0m\u001b[37m\u001b[0m \u001b[1m5s\u001b[0m 3ms/step - accuracy: 0.8911 - loss: 0.2941 - val_accuracy: 0.8785 - val_loss: 0.3286\n",
            "⏱ Tiempo en GPU: 30.82 segundos\n"
          ]
        }
      ]
    },
    {
      "cell_type": "code",
      "source": [
        "#ahora lo comparo\n",
        "print(f\"⏱ Tiempo total entrenamiento en CPU: {cpu_time:.2f} segundos\")\n",
        "print(f\"⏱ Tiempo total entrenamiento en GPU: {gpu_time:.2f} segundos\")\n"
      ],
      "metadata": {
        "colab": {
          "base_uri": "https://localhost:8080/"
        },
        "id": "vA1DaHNFkV3Q",
        "outputId": "21a3140f-a93a-4f14-8a83-2ec26647909c"
      },
      "execution_count": 8,
      "outputs": [
        {
          "output_type": "stream",
          "name": "stdout",
          "text": [
            "⏱ Tiempo total entrenamiento en CPU: 26.51 segundos\n",
            "⏱ Tiempo total entrenamiento en GPU: 30.82 segundos\n"
          ]
        }
      ]
    },
    {
      "cell_type": "code",
      "source": [
        "#para una mejor visualización\n",
        "import matplotlib.pyplot as plt\n",
        "\n",
        "plt.plot(history_cpu.history['accuracy'], label='CPU Accuracy')\n",
        "plt.plot(history_gpu.history['accuracy'], label='GPU Accuracy')\n",
        "plt.title('Precisión del modelo en CPU vs GPU')\n",
        "plt.xlabel('Épocas')\n",
        "plt.ylabel('Precisión')\n",
        "plt.legend()\n",
        "plt.show()\n",
        "\n"
      ],
      "metadata": {
        "colab": {
          "base_uri": "https://localhost:8080/",
          "height": 474
        },
        "id": "i-fHxjF5kasQ",
        "outputId": "8c8950f9-0903-47f4-eaed-46524e1ac706"
      },
      "execution_count": 9,
      "outputs": [
        {
          "output_type": "display_data",
          "data": {
            "text/plain": [
              "<Figure size 640x480 with 1 Axes>"
            ],
            "image/png": "[encoded data removed]"
          },
          "metadata": {}
        }
      ]
    }
  ]
}